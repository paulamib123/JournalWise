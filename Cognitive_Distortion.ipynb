{
  "cells": [
    {
      "cell_type": "markdown",
      "metadata": {
        "id": "FG8g4N19zruE"
      },
      "source": [
        "#Setup"
      ]
    },
    {
      "cell_type": "code",
      "execution_count": null,
      "metadata": {
        "collapsed": true,
        "id": "zRkkDyulXCsR"
      },
      "outputs": [],
      "source": [
        "!pip install praw openai transformers numpy requests nlpaug nltk>=3.4.5"
      ]
    },
    {
      "cell_type": "code",
      "execution_count": null,
      "metadata": {
        "id": "1mRfAImjYy_u"
      },
      "outputs": [],
      "source": [
        "import praw\n",
        "import pandas as pd"
      ]
    },
    {
      "cell_type": "markdown",
      "metadata": {
        "id": "y4OnwcL19z4H"
      },
      "source": [
        "# Create Dataset"
      ]
    },
    {
      "cell_type": "code",
      "execution_count": null,
      "metadata": {
        "id": "n37bKJ9-XI14"
      },
      "outputs": [],
      "source": [
        "# Read-only instance\n",
        "reddit_read_only = praw.Reddit(client_id=\"\", # your client id\n",
        "                               client_secret=\"\", # your client secret\n",
        "                               user_agent=\"\") # your user agent"
      ]
    },
    {
      "cell_type": "code",
      "execution_count": null,
      "metadata": {
        "colab": {
          "base_uri": "https://localhost:8080/"
        },
        "id": "AuR_AoGlYSDy",
        "outputId": "bdf936d5-8899-4a2b-f695-527211a85704"
      },
      "outputs": [],
      "source": [
        "subreddit = reddit_read_only.subreddit(\"offmychest\")\n",
        "\n",
        "for post in subreddit.hot(limit=5):\n",
        "    print(post.title)\n",
        "    print()"
      ]
    },
    {
      "cell_type": "code",
      "execution_count": null,
      "metadata": {
        "colab": {
          "base_uri": "https://localhost:8080/",
          "height": 1000
        },
        "collapsed": true,
        "id": "22EAHmYdYwOC",
        "outputId": "053789f1-d47b-4dea-dffe-20f0cbc792c0"
      },
      "outputs": [],
      "source": [
        "posts = subreddit.top(limit=1000)\n",
        "# Scraping the top posts of the current month\n",
        "\n",
        "posts_dict = {\"Title\": [], \"Post Text\": [],\n",
        "              \"ID\": [], \"Score\": [],\n",
        "              \"Total Comments\": [], \"Post URL\": []\n",
        "              }\n",
        "\n",
        "for post in posts:\n",
        "    posts_dict[\"Title\"].append(post.title)\n",
        "    posts_dict[\"Post Text\"].append(post.selftext)\n",
        "    posts_dict[\"ID\"].append(post.id)\n",
        "    posts_dict[\"Score\"].append(post.score)\n",
        "    posts_dict[\"Total Comments\"].append(post.num_comments)\n",
        "    posts_dict[\"Post URL\"].append(post.url)\n",
        "\n",
        "top_posts = pd.DataFrame(posts_dict)\n",
        "top_posts"
      ]
    },
    {
      "cell_type": "code",
      "execution_count": null,
      "metadata": {
        "colab": {
          "base_uri": "https://localhost:8080/",
          "height": 272
        },
        "id": "y8cuPG7Zb-E_",
        "outputId": "7ef4be4c-40f9-4873-e578-457423f2aca6"
      },
      "outputs": [],
      "source": [
        "lengths = top_posts[\"Post Text\"].str.len()\n",
        "long_posts = top_posts[lengths >= 200]\n",
        "long_posts.count()"
      ]
    },
    {
      "cell_type": "code",
      "execution_count": null,
      "metadata": {
        "id": "o82FnNFRdiBA"
      },
      "outputs": [],
      "source": [
        "def get_posts_from_subreddit(subreddits, limit):\n",
        "  posts_dict = {\"id\": [], \"title\": [], \"text\": [], \"subreddit\": []}\n",
        "\n",
        "  for subreddit_name in subreddits:\n",
        "    subreddit = reddit_read_only.subreddit(subreddit_name)\n",
        "    posts = subreddit.top(limit = limit)\n",
        "\n",
        "    for post in posts:\n",
        "        posts_dict[\"id\"].append(post.id)\n",
        "\n",
        "        posts_dict[\"title\"].append(post.title)\n",
        "\n",
        "        posts_dict[\"text\"].append(post.selftext)\n",
        "\n",
        "        posts_dict[\"subreddit\"].append(subreddit_name)\n",
        "\n",
        "  return posts_dict\n"
      ]
    },
    {
      "cell_type": "code",
      "execution_count": null,
      "metadata": {
        "colab": {
          "base_uri": "https://localhost:8080/"
        },
        "collapsed": true,
        "id": "f4SUoJcUeQbN",
        "outputId": "46ff6db5-86b5-4f5a-92ff-8715999d2931"
      },
      "outputs": [],
      "source": [
        "subreddits = [\"offmychest\", \"DecidingToBeBetter\", \"TrueOffMyChest\", \"mentalhealth\", \"relationships\"]\n",
        "limit = 1000\n",
        "\n",
        "reddit_posts = get_posts_from_subreddit(subreddits, limit)"
      ]
    },
    {
      "cell_type": "code",
      "execution_count": null,
      "metadata": {
        "colab": {
          "base_uri": "https://localhost:8080/",
          "height": 424
        },
        "id": "I1NQqBS1eHto",
        "outputId": "d70687e0-efc8-4584-9192-91513af3e3fe"
      },
      "outputs": [],
      "source": [
        "reddit_posts_df = pd.DataFrame(reddit_posts)\n",
        "reddit_posts_df"
      ]
    },
    {
      "cell_type": "code",
      "execution_count": null,
      "metadata": {
        "id": "573MNuG9gBxt"
      },
      "outputs": [],
      "source": [
        "reddit_posts_df.to_csv(\"data/raw_data.csv\", sep='\\t', encoding='utf-8', index=False, header=True)"
      ]
    },
    {
      "cell_type": "markdown",
      "metadata": {
        "id": "iZyFUUtK4DDv"
      },
      "source": [
        "# Data Pre Processing"
      ]
    },
    {
      "cell_type": "code",
      "execution_count": null,
      "metadata": {
        "colab": {
          "base_uri": "https://localhost:8080/",
          "height": 424
        },
        "id": "6K233tvg4CdM",
        "outputId": "03e4ac9d-e5c3-4a24-b08a-1fa0f20c991c"
      },
      "outputs": [],
      "source": [
        "reddit_posts_df = pd.read_csv(\"data/raw_data.csv\", sep='\\t')\n",
        "reddit_posts_df"
      ]
    },
    {
      "cell_type": "code",
      "execution_count": null,
      "metadata": {
        "id": "BBACW3Zgj-HJ"
      },
      "outputs": [],
      "source": [
        "import re\n",
        "def clean_for_baseline(text):\n",
        "    text = text.lower()\n",
        "    text = re.sub(r\"http\\S+\", \"\", text)\n",
        "    text = re.sub(r\"[^a-z\\s]\", \"\", text)\n",
        "    text = re.sub(r\"\\s+\", \" \", text).strip()\n",
        "    return text"
      ]
    },
    {
      "cell_type": "code",
      "execution_count": null,
      "metadata": {
        "id": "0C6Qe6xRpqM2"
      },
      "outputs": [],
      "source": [
        "cleaned_posts_df = reddit_posts_df\n",
        "cleaned_posts_df = cleaned_posts_df[cleaned_posts_df[\"text\"].notnull()]\n",
        "cleaned_posts_df = cleaned_posts_df[~cleaned_posts_df[\"text\"].str.contains(\"removed|deleted\", case=False)]\n",
        "cleaned_posts_df = cleaned_posts_df[cleaned_posts_df[\"text\"].str.len() >= 200]\n",
        "cleaned_posts_df[\"full_text\"] = cleaned_posts_df[\"title\"] + \" \" + cleaned_posts_df[\"text\"]"
      ]
    },
    {
      "cell_type": "code",
      "execution_count": null,
      "metadata": {
        "id": "knSFv90rqH_7"
      },
      "outputs": [],
      "source": [
        "def heuristic_label(text):\n",
        "    text = text.lower()\n",
        "    if any(kw in text for kw in [\"everything is ruined\", \"worst thing ever\", \"disaster\"]):\n",
        "        return \"catastrophizing\"\n",
        "    elif any(kw in text for kw in [\"always\", \"never\", \"everyone\", \"no one\"]):\n",
        "        return \"overgeneralization\"\n",
        "    elif any(kw in text for kw in [\"they think\", \"they must believe\", \"they want\"]):\n",
        "        return \"mind reading\"\n",
        "    elif any(kw in text for kw in [\"it’s my fault\", \"i caused\", \"because of me\"]):\n",
        "        return \"personalization\"\n",
        "    elif any(kw in text for kw in [\"i feel like\", \"i know it’s true because i feel it\"]):\n",
        "        return \"emotional reasoning\"\n",
        "    else:\n",
        "        return \"none\"\n",
        "\n",
        "cleaned_posts_df['label'] = cleaned_posts_df['full_text'].apply(heuristic_label)"
      ]
    },
    {
      "cell_type": "code",
      "execution_count": null,
      "metadata": {
        "colab": {
          "base_uri": "https://localhost:8080/",
          "height": 597
        },
        "id": "1Lbfh27RqPf1",
        "outputId": "f2652fbb-486b-45c7-a98c-251d8a5b6f75"
      },
      "outputs": [],
      "source": [
        "unlabeled_posts_df = cleaned_posts_df[cleaned_posts_df['label'] == \"none\"]\n",
        "unlabeled_posts_df"
      ]
    },
    {
      "cell_type": "code",
      "execution_count": null,
      "metadata": {
        "id": "rxIBdxyJqi2g"
      },
      "outputs": [],
      "source": [
        "# from openai import OpenAI\n",
        "# API_KEY = \"\"\n",
        "\n",
        "# client = OpenAI(\n",
        "#     # This is the default and can be omitted\n",
        "#     api_key=API_KEY,\n",
        "# )\n",
        "\n",
        "# def get_label_with_zero_shot_gpt(text):\n",
        "#   prompt = f\"\"\"\n",
        "#   You are a CBT-trained therapist. Read the journal entry below and label it with one cognitive distortion from: Catastrophizing, Overgeneralization, Mind Reading, Personalization, Emotional Reasoning.\n",
        "#   Return the response in one word if it fits none of the above labels return the word none.\n",
        "#   Below is an additional description of each of these cognitive distortion labels.\n",
        "#   Catastrophizing - When individuals consistently imagine the worst possible outcome in a situation, even when it's unlikely or improbable. This can lead to heightened anxiety, fear, and a sense of being overwhelmed. It's essentially a form of negative thinking where minor issues are blown out of proportion, and the focus is solely on negative possibilities.\n",
        "#   Overgeneralization - When major conclusions are drawn based on limited information, or some large group is said to have same behavior or property. For example: “one nurse was rude to me, this means all medical staff must be rude.” or “last time I was in the pool I almost drowned, I am a terrible swimmer and should not go into the water again”.\n",
        "#   Mind Reading - Any evidence of the speaker suspecting what others are thinking or what are the motivations behind their actions. Statements like “they won’t understand”, “they dislike me” suggest mind reading distortion. However, “she said she dislikes me” is not a distortion, but “I think she dislikes me since she ignored me” is again mind reading distortion (since it is based on assumption that you know why someone behaved in a certain way).\n",
        "#   Personalization - Personalizing or taking up the blame for a situation which is not directly related to the speaker. This could also be assigning the blame to someone who was not responsible for the situation that in reality involved many factors and was out of your/the person’s control. The first entry in the sample is a good example for this.\n",
        "#   Emotional Reasoning - Basically, this distortion can be summed up as - “If I feel that way, it must be true.” Whatever a person is feeling is believed to be true automatically and unconditionally. One of the most common representation of this is some variation of – ‘I feel like a failure so I must be a failure’. It does not always have to be about the speaker themselves, “I feel like he is not being honest with me, he must be hiding something” is also an example of emotional reasoning.\n",
        "\n",
        "#   Text: \"{text}\"\n",
        "#   Label:\"\"\"\n",
        "\n",
        "#   response = client.chat.completions.create(\n",
        "#         model=\"gpt-4\",\n",
        "#         messages=[{\"role\": \"user\", \"content\": prompt}],\n",
        "#         temperature=0\n",
        "#     )\n",
        "\n",
        "#   return response.choices[0].message.content.strip().lower()"
      ]
    },
    {
      "cell_type": "code",
      "execution_count": null,
      "metadata": {
        "colab": {
          "base_uri": "https://localhost:8080/",
          "height": 354,
          "referenced_widgets": [
            "d7f93ef979ed42169f03c87380f3d212",
            "a60cd54da24844099a0328154bead4bd",
            "471d6dd37677488dbbca9440d4fa4f2a",
            "dadc47a53fad489388c2a8b068b313ca",
            "6039e71a62e5420e97488efdcb7a2d0d",
            "16f4d856b4014a82b718c8d943db5b70",
            "59393b3c23dc482e860cf4e7c5038ce7",
            "cf5d54b35dfb485288b58d9efc2cdc5b",
            "7ddae2a6debe40f088bd056d03160ec7",
            "e18e2e546add4dcf9e97fd36ec377673",
            "3d8ad750f5a34e08944246472beaaa4f",
            "3c9d239e57ee411c9e095c27d1acc8ca",
            "b39e77c0da024e13863cc7c7ce09ecf4",
            "3f7dc0dacf9045e68f6d269008c5c37c",
            "2e7a137425284c50ad3afc51b749559d",
            "7a5b9f21377044519c731c068af0dcbd",
            "e040401f97d3473e88d9cf385b05963f",
            "d2ac34ce18814a9ebcb2e356c7dd14f8",
            "c87c7f0698e044b3b6ad75251ceca679",
            "269c7c93514348a99a6a08c2fd06243b",
            "f76a2e2e76694b479215d3cde1f2d925",
            "9ed76dfd0c1049d49fed1e5d12489b7e",
            "54ede9e9777b463a9dc58ef30048469c",
            "7fab6bd43ce342dfa5a1f4fc5df11455",
            "f2296b1c06fe49989a608bc2b7ab9982",
            "124c0036cb844e7493aba63f6efd6905",
            "36efd19cef6e42cea554fb0c62db7c22",
            "aff45ccf5270461abfb9da5480c396c3",
            "29d3875b33494d8e8c20afdce0a36b38",
            "8f55ea9ffc25476283a9a806ab2da010",
            "2bbc03c31c1847db8f2e71e86237f0c6",
            "904ecd6c15004ba3854f1ec69836c5d9",
            "9c379451621c4bc0bfcde3fb4cf25e9a",
            "aa9d2186b8914dc08ab2256e88a33300",
            "5a2fe9a6d3db4fd895e35aafdf97f479",
            "06d1adad50024a94b206cfe43bec208f",
            "f00abfd02b0846afbb1c36ac563a75e1",
            "2b8d26c33c6845879c030a8a252fb351",
            "aadfb2e040904f7f98c76bd3b2fc20a0",
            "cd0c29c5a7b847fa9aa7aa6597934e80",
            "687a63aedf9042c5b4882ad0ceda8c83",
            "88aff01cca6248deae4e172559efbaa4",
            "f4a636f04c56429d87b57c9682e49272",
            "fcce33f0d014431990bca3e395ccf29a",
            "0001cc7ab6ed4d978b360215f04561b8",
            "4bd9d92dbde043519fa622644c0f3adb",
            "46a65c96775846119bbbf0e45443a3b8",
            "f21a56d79ea34c0e99582f85d8baa2ef",
            "3c059a788b164bccbf17d4c63d92ad29",
            "858062a0d55a44ba93c7b830f447c28b",
            "3336063f92714b179c939c3bcfc49e63",
            "840165adcc7e40519c407ed7c6bb9633",
            "66b92271a42240b6a26b58307b4a49ae",
            "22cc8bd7ef8d4f6aaa48fce6ea864e4a",
            "fa589d747f574b9aaaa66ec7ef84728e",
            "9c9d83d79a3447398fd9be63258f24b4",
            "6b096cf3719647619ba6fc9434cac78c",
            "990592ae12184ca5a2f424b1d7935a40",
            "80eddab31fdd424e8a500595833fcec5",
            "cbe9bbe8b8ff455d881d69f43af70534",
            "5749c35a411c42dd8d5871e981ee743f",
            "6982138a5721429c9ff6e5b95f88327a",
            "90bb608381644d41b7c3302e779f0d90",
            "e990409916d946048b4c2e2e8c3c04f4",
            "bc96a0c6ddfd463fb35f93da3500c990",
            "83c5ed391b3a4daf8cbed226a9b61a2e"
          ]
        },
        "id": "uY4nGS6AyAhV",
        "outputId": "d2e96995-1ad1-40ce-eeda-d36197383eb8"
      },
      "outputs": [],
      "source": [
        "from transformers import pipeline\n",
        "classifier = pipeline(\"zero-shot-classification\",\n",
        "                      model=\"facebook/bart-large-mnli\", device=\"cuda\")\n",
        "\n",
        "# Your list of distortions and definitions\n",
        "distortions = {\n",
        "    \"Catastrophizing\": \"This post contains catastrophizing, where the speaker imagines the worst possible outcome, even when unlikely.\",\n",
        "    \"Overgeneralization\": \"This post contains overgeneralization, drawing broad conclusions from limited events or examples.\",\n",
        "    \"Mind Reading\": \"This post involves mind reading, where the speaker assumes others' thoughts or motives without proof.\",\n",
        "    \"Personalization\": \"This post contains personalization, where the speaker blames themselves for events outside their control.\",\n",
        "    \"Emotional Reasoning\": \"This post shows emotional reasoning, treating emotions as facts (e.g., 'I feel it, so it must be true').\"\n",
        "}\n",
        "\n",
        "# Convert dictionary values to a list of hypotheses\n",
        "hypotheses = list(distortions.values())\n",
        "labels = list(distortions.keys())\n",
        "\n",
        "\n",
        "def get_label_with_bart(text):\n",
        "    result = classifier(text, hypotheses, multi_label=False,)\n",
        "    best_hypothesis = result['labels'][0]\n",
        "    best_label = labels[hypotheses.index(best_hypothesis)]\n",
        "    return best_label.lower()"
      ]
    },
    {
      "cell_type": "code",
      "execution_count": null,
      "metadata": {
        "colab": {
          "base_uri": "https://localhost:8080/"
        },
        "id": "ZrOUoqpKs2vw",
        "outputId": "6ffa59d2-c576-4caf-f8fc-20156a0fa0e2"
      },
      "outputs": [],
      "source": [
        "data = unlabeled_posts_df.iloc[0].to_dict()\n",
        "data"
      ]
    },
    {
      "cell_type": "code",
      "execution_count": null,
      "metadata": {
        "id": "_Hb4PGFQsz5w"
      },
      "outputs": [],
      "source": [
        "# get_label_with_zero_shot_gpt(data[\"full_text\"])"
      ]
    },
    {
      "cell_type": "code",
      "execution_count": null,
      "metadata": {
        "colab": {
          "base_uri": "https://localhost:8080/",
          "height": 35
        },
        "id": "0qP8eoq_ytnB",
        "outputId": "a0fbd4ca-ce6c-47f3-8159-961c6023e0b1"
      },
      "outputs": [],
      "source": [
        "get_label_with_bart(data[\"full_text\"])"
      ]
    },
    {
      "cell_type": "code",
      "execution_count": null,
      "metadata": {
        "colab": {
          "base_uri": "https://localhost:8080/"
        },
        "id": "6D07CSyTuNsY",
        "outputId": "8033c41c-3bbe-4898-f303-31a78bf18124"
      },
      "outputs": [],
      "source": [
        "unlabeled_posts_df[\"label\"] = unlabeled_posts_df[\"full_text\"].apply(get_label_with_bart)"
      ]
    },
    {
      "cell_type": "code",
      "execution_count": null,
      "metadata": {
        "colab": {
          "base_uri": "https://localhost:8080/",
          "height": 53
        },
        "id": "T5lOEf10ubwc",
        "outputId": "01577e89-eaba-4fac-945d-8e3a42f69876"
      },
      "outputs": [],
      "source": [
        "unlabeled_posts_df[unlabeled_posts_df['label'] == \"none\"]"
      ]
    },
    {
      "cell_type": "code",
      "execution_count": null,
      "metadata": {
        "colab": {
          "base_uri": "https://localhost:8080/",
          "height": 597
        },
        "id": "yYzxbJma2Eor",
        "outputId": "64cb6184-b217-4faf-b39f-234902d9c12a"
      },
      "outputs": [],
      "source": [
        "unlabeled_posts_df"
      ]
    },
    {
      "cell_type": "code",
      "execution_count": null,
      "metadata": {
        "colab": {
          "base_uri": "https://localhost:8080/",
          "height": 597
        },
        "id": "ZF_V4-Fs2TR2",
        "outputId": "f37a4dcb-ecea-4159-cf10-f3517a3efd79"
      },
      "outputs": [],
      "source": [
        "labeled_posts_df = cleaned_posts_df[cleaned_posts_df['label'] != \"none\"]\n",
        "labeled_posts_df"
      ]
    },
    {
      "cell_type": "code",
      "execution_count": null,
      "metadata": {
        "colab": {
          "base_uri": "https://localhost:8080/",
          "height": 424
        },
        "id": "tvMP-lXK2VIj",
        "outputId": "a350320d-3e83-4089-a3e2-87ebdf6efe9e"
      },
      "outputs": [],
      "source": [
        "all_labeled_df = pd.concat([labeled_posts_df, unlabeled_posts_df], axis=0, ignore_index=True)\n",
        "all_labeled_df = all_labeled_df.drop(columns=[\"text\", \"subreddit\", \"title\"])\n",
        "all_labeled_df"
      ]
    },
    {
      "cell_type": "code",
      "execution_count": null,
      "metadata": {
        "id": "7MbvCjFZe3xr"
      },
      "outputs": [],
      "source": [
        "baseline_posts_df = all_labeled_df.copy()"
      ]
    },
    {
      "cell_type": "code",
      "execution_count": null,
      "metadata": {
        "id": "n6tcZ1kXk_Q3"
      },
      "outputs": [],
      "source": [
        "baseline_posts_df['full_text'] = baseline_posts_df['full_text'].apply(clean_for_baseline)"
      ]
    },
    {
      "cell_type": "code",
      "execution_count": null,
      "metadata": {
        "colab": {
          "base_uri": "https://localhost:8080/",
          "height": 424
        },
        "id": "IPm5UdHO9iax",
        "outputId": "86abf909-94e2-4bc8-f085-b06af6c73ca2"
      },
      "outputs": [],
      "source": [
        "baseline_posts_df"
      ]
    },
    {
      "cell_type": "code",
      "execution_count": null,
      "metadata": {
        "id": "FvpmDavvlV3o"
      },
      "outputs": [],
      "source": [
        "baseline_posts_df.to_csv(\"data/clean_baseline_data.csv\", sep='\\t', encoding='utf-8', index=False, header=True)"
      ]
    },
    {
      "cell_type": "markdown",
      "metadata": {
        "id": "UbXVDaV39-tS"
      },
      "source": [
        "# Data Analysis"
      ]
    },
    {
      "cell_type": "code",
      "execution_count": null,
      "metadata": {
        "colab": {
          "base_uri": "https://localhost:8080/",
          "height": 424
        },
        "id": "Po2kPjBf-BoS",
        "outputId": "ec7ed082-3868-4e3f-f627-223510299244"
      },
      "outputs": [],
      "source": [
        "dataset = pd.read_csv(\"data/clean_baseline_data.csv\", sep='\\t')\n",
        "dataset"
      ]
    },
    {
      "cell_type": "code",
      "execution_count": null,
      "metadata": {
        "colab": {
          "base_uri": "https://localhost:8080/",
          "height": 272
        },
        "id": "C9BIXQ26-RsF",
        "outputId": "d3f0fa8e-adcf-44d7-c19a-7e220b587e66"
      },
      "outputs": [],
      "source": [
        "dataset.groupby('label').size()"
      ]
    },
    {
      "cell_type": "code",
      "execution_count": null,
      "metadata": {
        "colab": {
          "base_uri": "https://localhost:8080/",
          "height": 487
        },
        "id": "eQhYoisT-J3t",
        "outputId": "c2106f46-5139-4743-bfe9-7d8dd2beda9e"
      },
      "outputs": [],
      "source": [
        "import matplotlib.pyplot as plt\n",
        "\n",
        "label_counts = dataset.groupby('label').size()\n",
        "\n",
        "plt.figure()\n",
        "label_counts.plot(kind='bar')\n",
        "plt.title('Distribution of Labels')\n",
        "plt.xlabel('Label')\n",
        "plt.ylabel('Count')\n",
        "plt.xticks(rotation=45, ha='right')\n",
        "plt.tight_layout()\n",
        "plt.show()"
      ]
    },
    {
      "cell_type": "markdown",
      "metadata": {
        "id": "Pfm0FDyr94Sc"
      },
      "source": [
        "# Baseline Model"
      ]
    },
    {
      "cell_type": "code",
      "execution_count": null,
      "metadata": {
        "colab": {
          "base_uri": "https://localhost:8080/"
        },
        "id": "v4Y-N4Vd96t3",
        "outputId": "def5737e-f0dc-4b6d-e39b-fa86ba74c322"
      },
      "outputs": [],
      "source": [
        "from sklearn.model_selection import train_test_split\n",
        "from sklearn.feature_extraction.text import TfidfVectorizer\n",
        "from sklearn.naive_bayes import MultinomialNB\n",
        "from sklearn.linear_model import SGDClassifier, LogisticRegression\n",
        "from sklearn.metrics import classification_report\n",
        "from sklearn import preprocessing\n",
        "from sklearn.dummy import DummyClassifier\n",
        "from sklearn import metrics\n",
        "\n",
        "X = dataset['full_text']\n",
        "y = dataset['label']\n",
        "\n",
        "le = preprocessing.LabelEncoder()\n",
        "y = le.fit_transform(y)\n",
        "\n",
        "# Split the data into training and testing sets\n",
        "X_train, X_test, y_train, y_test = train_test_split(X, y, test_size=0.2, random_state=42)\n",
        "\n",
        "# Vectorize the text data\n",
        "tfidf = TfidfVectorizer(max_features=5000)\n",
        "X_train_tfidf = tfidf.fit_transform(X_train)\n",
        "X_test_tfidf = tfidf.transform(X_test)\n",
        "\n",
        "model = LogisticRegression(C=1.0)\n",
        "model.fit(X_train_tfidf, y_train)\n",
        "\n",
        "# Evaluate the model\n",
        "y_pred = model.predict(X_test_tfidf)\n",
        "\n",
        "print(classification_report(y_test, y_pred))\n",
        "\n",
        "print(metrics.confusion_matrix(y_test, y_pred))\n",
        "print(metrics.accuracy_score(y_test, y_pred))"
      ]
    },
    {
      "cell_type": "markdown",
      "metadata": {
        "id": "Z1wnZaWhSet_"
      },
      "source": [
        "#Data Augmentation"
      ]
    },
    {
      "cell_type": "code",
      "execution_count": null,
      "metadata": {
        "colab": {
          "base_uri": "https://localhost:8080/",
          "height": 161
        },
        "id": "ejxo0Gue1FX7",
        "outputId": "6ee8743c-43ff-4177-cc74-b727ca5dab23"
      },
      "outputs": [],
      "source": [
        "dataset.iloc[0].to_dict()[\"full_text\"]"
      ]
    },
    {
      "cell_type": "code",
      "execution_count": null,
      "metadata": {
        "colab": {
          "base_uri": "https://localhost:8080/"
        },
        "id": "hYduAO7x0ueV",
        "outputId": "0675e111-f495-45e1-d95e-acee96fb654c"
      },
      "outputs": [],
      "source": [
        "import nlpaug.augmenter.word as naw\n",
        "import nltk\n",
        "nltk.download('averaged_perceptron_tagger_eng')\n",
        "\n",
        "def augment_text(df, aug, times, augmented_data):\n",
        "  for index, row in df.iterrows():\n",
        "    text = row[\"full_text\"]\n",
        "    label = row[\"label\"]\n",
        "    for _ in range(times):\n",
        "      augmented_text = aug.augment(text)\n",
        "      augmented_data[\"id\"].append(\"1\")\n",
        "      augmented_data[\"full_text\"].append(augmented_text[0])\n",
        "      augmented_data[\"label\"].append(label)\n",
        "\n",
        "\n",
        "augmented_data = {\"id\": [], \"full_text\": [], \"label\": []}"
      ]
    },
    {
      "cell_type": "code",
      "execution_count": null,
      "metadata": {
        "colab": {
          "base_uri": "https://localhost:8080/"
        },
        "id": "Y14a0jFr4fLQ",
        "outputId": "9cffb48f-d615-479a-d114-6ce88d9bd73c"
      },
      "outputs": [],
      "source": [
        "aug = naw.SynonymAug(aug_src='wordnet')\n",
        "\n",
        "catastrophizing = dataset[dataset[\"label\"] == \"catastrophizing\"]\n",
        "augment_text(catastrophizing, aug, 3, augmented_data)\n",
        "\n",
        "emotional_reasoning = dataset[dataset[\"label\"] == \"emotional reasoning\"]\n",
        "augment_text(emotional_reasoning, aug, 3, augmented_data)\n",
        "\n",
        "mind_reading = dataset[dataset[\"label\"] == \"mind reading\"]\n",
        "augment_text(mind_reading, aug, 3, augmented_data)"
      ]
    },
    {
      "cell_type": "code",
      "execution_count": null,
      "metadata": {
        "id": "V6cunMHa7OwS"
      },
      "outputs": [],
      "source": [
        "aug = naw.RandomWordAug(action=\"swap\")\n",
        "\n",
        "catastrophizing = dataset[dataset[\"label\"] == \"catastrophizing\"]\n",
        "augment_text(catastrophizing, aug, 3, augmented_data)\n",
        "\n",
        "emotional_reasoning = dataset[dataset[\"label\"] == \"emotional reasoning\"]\n",
        "augment_text(emotional_reasoning, aug, 3, augmented_data)\n",
        "\n",
        "mind_reading = dataset[dataset[\"label\"] == \"mind reading\"]\n",
        "augment_text(mind_reading, aug, 3, augmented_data)"
      ]
    },
    {
      "cell_type": "code",
      "execution_count": null,
      "metadata": {
        "id": "CjE8qsts7PTm"
      },
      "outputs": [],
      "source": [
        "aug = naw.RandomWordAug()\n",
        "\n",
        "catastrophizing = dataset[dataset[\"label\"] == \"catastrophizing\"]\n",
        "augment_text(catastrophizing, aug, 3, augmented_data)\n",
        "\n",
        "emotional_reasoning = dataset[dataset[\"label\"] == \"emotional reasoning\"]\n",
        "augment_text(emotional_reasoning, aug, 3, augmented_data)\n",
        "\n",
        "mind_reading = dataset[dataset[\"label\"] == \"mind reading\"]\n",
        "augment_text(mind_reading, aug, 3, augmented_data)"
      ]
    },
    {
      "cell_type": "code",
      "execution_count": null,
      "metadata": {
        "colab": {
          "base_uri": "https://localhost:8080/"
        },
        "id": "o5aKB9-M34v8",
        "outputId": "d2abb110-2b87-4329-db4b-7003ceebef0a"
      },
      "outputs": [],
      "source": [
        "len(augmented_data[\"full_text\"])"
      ]
    },
    {
      "cell_type": "code",
      "execution_count": null,
      "metadata": {
        "colab": {
          "base_uri": "https://localhost:8080/",
          "height": 424
        },
        "id": "d3pHUF1P35mO",
        "outputId": "d1e7329a-1e0f-469a-db02-007c45d0c920"
      },
      "outputs": [],
      "source": [
        "augmented_data_df = pd.DataFrame(augmented_data)\n",
        "augmented_data_df"
      ]
    },
    {
      "cell_type": "code",
      "execution_count": null,
      "metadata": {
        "colab": {
          "base_uri": "https://localhost:8080/",
          "height": 424
        },
        "id": "0ZoXesc24HSS",
        "outputId": "0c4e84ba-b2b7-4f38-f02d-e5c57250cf1b"
      },
      "outputs": [],
      "source": [
        "more_data = pd.concat([augmented_data_df, dataset], axis=0)\n",
        "more_data"
      ]
    },
    {
      "cell_type": "code",
      "execution_count": null,
      "metadata": {
        "colab": {
          "base_uri": "https://localhost:8080/",
          "height": 487
        },
        "id": "q6XScLCaAAMO",
        "outputId": "855fda72-0cb8-4b5d-fc11-edbcdf544ff6"
      },
      "outputs": [],
      "source": [
        "import matplotlib.pyplot as plt\n",
        "\n",
        "label_counts = more_data.groupby('label').size()\n",
        "\n",
        "plt.figure()\n",
        "label_counts.plot(kind='bar')\n",
        "plt.title('Distribution of Labels')\n",
        "plt.xlabel('Label')\n",
        "plt.ylabel('Count')\n",
        "plt.xticks(rotation=45, ha='right')\n",
        "plt.tight_layout()\n",
        "plt.show()"
      ]
    },
    {
      "cell_type": "markdown",
      "metadata": {
        "id": "hbpRRLK9SiK0"
      },
      "source": [
        "# Model"
      ]
    },
    {
      "cell_type": "code",
      "execution_count": null,
      "metadata": {
        "colab": {
          "base_uri": "https://localhost:8080/"
        },
        "id": "OOLfwbSY4pNF",
        "outputId": "3e4115b5-40f1-4454-9022-e95c292a032b"
      },
      "outputs": [],
      "source": [
        "from sklearn.model_selection import train_test_split\n",
        "from sklearn.feature_extraction.text import TfidfVectorizer\n",
        "from sklearn.naive_bayes import MultinomialNB\n",
        "from sklearn.linear_model import SGDClassifier, LogisticRegression\n",
        "from sklearn.metrics import classification_report\n",
        "from sklearn import preprocessing\n",
        "from sklearn.dummy import DummyClassifier\n",
        "from sklearn import metrics\n",
        "from sklearn import svm\n",
        "\n",
        "\n",
        "X = more_data['full_text']\n",
        "y = more_data['label']\n",
        "\n",
        "le = preprocessing.LabelEncoder()\n",
        "y = le.fit_transform(y)\n",
        "\n",
        "# Split the data into training and testing sets\n",
        "X_train, X_test, y_train, y_test = train_test_split(X, y, test_size=0.2, random_state=42, shuffle=True)\n",
        "\n",
        "# Vectorize the text data\n",
        "tfidf = TfidfVectorizer(max_features=5000)\n",
        "X_train_tfidf = tfidf.fit_transform(X_train)\n",
        "X_test_tfidf = tfidf.transform(X_test)\n",
        "\n",
        "model = svm.SVC(decision_function_shape='ovo', probability=True)\n",
        "# model = svm.LinearSVC()\n",
        "model.fit(X_train_tfidf, y_train)\n",
        "\n",
        "# Evaluate the model\n",
        "y_pred = model.predict(X_test_tfidf)\n",
        "\n",
        "print(classification_report(y_test, y_pred))\n",
        "\n",
        "print(metrics.confusion_matrix(y_test, y_pred))\n",
        "print(metrics.accuracy_score(y_test, y_pred))"
      ]
    },
    {
      "cell_type": "code",
      "execution_count": null,
      "metadata": {
        "colab": {
          "base_uri": "https://localhost:8080/"
        },
        "id": "639vWwzi5Xtj",
        "outputId": "fee9625b-a0f8-4cbf-c0c0-8d6b59e11b17"
      },
      "outputs": [],
      "source": [
        "le.classes_"
      ]
    },
    {
      "cell_type": "code",
      "execution_count": null,
      "metadata": {
        "colab": {
          "base_uri": "https://localhost:8080/"
        },
        "id": "_fCsE6jnX2L8",
        "outputId": "b46cead2-1c9d-4728-df23-de9a6cd3e842"
      },
      "outputs": [],
      "source": [
        "from joblib import dump, load\n",
        "\n",
        "# Save both the model and vectorizer\n",
        "dump(model, \"models/logistic_model.pkl\")\n",
        "dump(tfidf, \"models/tfidf_vectorizer.pkl\")"
      ]
    }
  ],
  "metadata": {
    "accelerator": "GPU",
    "colab": {
      "collapsed_sections": [
        "FG8g4N19zruE",
        "y4OnwcL19z4H",
        "iZyFUUtK4DDv",
        "UbXVDaV39-tS",
        "Pfm0FDyr94Sc",
        "Z1wnZaWhSet_",
        "hbpRRLK9SiK0"
      ],
      "gpuType": "T4",
      "provenance": []
    },
    "kernelspec": {
      "display_name": "Python 3",
      "name": "python3"
    },
    "language_info": {
      "name": "python"
    },
    "widgets": {
      "application/vnd.jupyter.widget-state+json": {
        "0001cc7ab6ed4d978b360215f04561b8": {
          "model_module": "@jupyter-widgets/controls",
          "model_module_version": "1.5.0",
          "model_name": "HBoxModel",
          "state": {
            "_dom_classes": [],
            "_model_module": "@jupyter-widgets/controls",
            "_model_module_version": "1.5.0",
            "_model_name": "HBoxModel",
            "_view_count": null,
            "_view_module": "@jupyter-widgets/controls",
            "_view_module_version": "1.5.0",
            "_view_name": "HBoxView",
            "box_style": "",
            "children": [
              "IPY_MODEL_4bd9d92dbde043519fa622644c0f3adb",
              "IPY_MODEL_46a65c96775846119bbbf0e45443a3b8",
              "IPY_MODEL_f21a56d79ea34c0e99582f85d8baa2ef"
            ],
            "layout": "IPY_MODEL_3c059a788b164bccbf17d4c63d92ad29"
          }
        },
        "06d1adad50024a94b206cfe43bec208f": {
          "model_module": "@jupyter-widgets/controls",
          "model_module_version": "1.5.0",
          "model_name": "FloatProgressModel",
          "state": {
            "_dom_classes": [],
            "_model_module": "@jupyter-widgets/controls",
            "_model_module_version": "1.5.0",
            "_model_name": "FloatProgressModel",
            "_view_count": null,
            "_view_module": "@jupyter-widgets/controls",
            "_view_module_version": "1.5.0",
            "_view_name": "ProgressView",
            "bar_style": "success",
            "description": "",
            "description_tooltip": null,
            "layout": "IPY_MODEL_687a63aedf9042c5b4882ad0ceda8c83",
            "max": 1,
            "min": 0,
            "orientation": "horizontal",
            "style": "IPY_MODEL_88aff01cca6248deae4e172559efbaa4",
            "value": 1
          }
        },
        "124c0036cb844e7493aba63f6efd6905": {
          "model_module": "@jupyter-widgets/controls",
          "model_module_version": "1.5.0",
          "model_name": "HTMLModel",
          "state": {
            "_dom_classes": [],
            "_model_module": "@jupyter-widgets/controls",
            "_model_module_version": "1.5.0",
            "_model_name": "HTMLModel",
            "_view_count": null,
            "_view_module": "@jupyter-widgets/controls",
            "_view_module_version": "1.5.0",
            "_view_name": "HTMLView",
            "description": "",
            "description_tooltip": null,
            "layout": "IPY_MODEL_904ecd6c15004ba3854f1ec69836c5d9",
            "placeholder": "​",
            "style": "IPY_MODEL_9c379451621c4bc0bfcde3fb4cf25e9a",
            "value": " 26.0/26.0 [00:00&lt;00:00, 2.45kB/s]"
          }
        },
        "16f4d856b4014a82b718c8d943db5b70": {
          "model_module": "@jupyter-widgets/base",
          "model_module_version": "1.2.0",
          "model_name": "LayoutModel",
          "state": {
            "_model_module": "@jupyter-widgets/base",
            "_model_module_version": "1.2.0",
            "_model_name": "LayoutModel",
            "_view_count": null,
            "_view_module": "@jupyter-widgets/base",
            "_view_module_version": "1.2.0",
            "_view_name": "LayoutView",
            "align_content": null,
            "align_items": null,
            "align_self": null,
            "border": null,
            "bottom": null,
            "display": null,
            "flex": null,
            "flex_flow": null,
            "grid_area": null,
            "grid_auto_columns": null,
            "grid_auto_flow": null,
            "grid_auto_rows": null,
            "grid_column": null,
            "grid_gap": null,
            "grid_row": null,
            "grid_template_areas": null,
            "grid_template_columns": null,
            "grid_template_rows": null,
            "height": null,
            "justify_content": null,
            "justify_items": null,
            "left": null,
            "margin": null,
            "max_height": null,
            "max_width": null,
            "min_height": null,
            "min_width": null,
            "object_fit": null,
            "object_position": null,
            "order": null,
            "overflow": null,
            "overflow_x": null,
            "overflow_y": null,
            "padding": null,
            "right": null,
            "top": null,
            "visibility": null,
            "width": null
          }
        },
        "22cc8bd7ef8d4f6aaa48fce6ea864e4a": {
          "model_module": "@jupyter-widgets/base",
          "model_module_version": "1.2.0",
          "model_name": "LayoutModel",
          "state": {
            "_model_module": "@jupyter-widgets/base",
            "_model_module_version": "1.2.0",
            "_model_name": "LayoutModel",
            "_view_count": null,
            "_view_module": "@jupyter-widgets/base",
            "_view_module_version": "1.2.0",
            "_view_name": "LayoutView",
            "align_content": null,
            "align_items": null,
            "align_self": null,
            "border": null,
            "bottom": null,
            "display": null,
            "flex": null,
            "flex_flow": null,
            "grid_area": null,
            "grid_auto_columns": null,
            "grid_auto_flow": null,
            "grid_auto_rows": null,
            "grid_column": null,
            "grid_gap": null,
            "grid_row": null,
            "grid_template_areas": null,
            "grid_template_columns": null,
            "grid_template_rows": null,
            "height": null,
            "justify_content": null,
            "justify_items": null,
            "left": null,
            "margin": null,
            "max_height": null,
            "max_width": null,
            "min_height": null,
            "min_width": null,
            "object_fit": null,
            "object_position": null,
            "order": null,
            "overflow": null,
            "overflow_x": null,
            "overflow_y": null,
            "padding": null,
            "right": null,
            "top": null,
            "visibility": null,
            "width": null
          }
        },
        "269c7c93514348a99a6a08c2fd06243b": {
          "model_module": "@jupyter-widgets/controls",
          "model_module_version": "1.5.0",
          "model_name": "ProgressStyleModel",
          "state": {
            "_model_module": "@jupyter-widgets/controls",
            "_model_module_version": "1.5.0",
            "_model_name": "ProgressStyleModel",
            "_view_count": null,
            "_view_module": "@jupyter-widgets/base",
            "_view_module_version": "1.2.0",
            "_view_name": "StyleView",
            "bar_color": null,
            "description_width": ""
          }
        },
        "29d3875b33494d8e8c20afdce0a36b38": {
          "model_module": "@jupyter-widgets/controls",
          "model_module_version": "1.5.0",
          "model_name": "DescriptionStyleModel",
          "state": {
            "_model_module": "@jupyter-widgets/controls",
            "_model_module_version": "1.5.0",
            "_model_name": "DescriptionStyleModel",
            "_view_count": null,
            "_view_module": "@jupyter-widgets/base",
            "_view_module_version": "1.2.0",
            "_view_name": "StyleView",
            "description_width": ""
          }
        },
        "2b8d26c33c6845879c030a8a252fb351": {
          "model_module": "@jupyter-widgets/base",
          "model_module_version": "1.2.0",
          "model_name": "LayoutModel",
          "state": {
            "_model_module": "@jupyter-widgets/base",
            "_model_module_version": "1.2.0",
            "_model_name": "LayoutModel",
            "_view_count": null,
            "_view_module": "@jupyter-widgets/base",
            "_view_module_version": "1.2.0",
            "_view_name": "LayoutView",
            "align_content": null,
            "align_items": null,
            "align_self": null,
            "border": null,
            "bottom": null,
            "display": null,
            "flex": null,
            "flex_flow": null,
            "grid_area": null,
            "grid_auto_columns": null,
            "grid_auto_flow": null,
            "grid_auto_rows": null,
            "grid_column": null,
            "grid_gap": null,
            "grid_row": null,
            "grid_template_areas": null,
            "grid_template_columns": null,
            "grid_template_rows": null,
            "height": null,
            "justify_content": null,
            "justify_items": null,
            "left": null,
            "margin": null,
            "max_height": null,
            "max_width": null,
            "min_height": null,
            "min_width": null,
            "object_fit": null,
            "object_position": null,
            "order": null,
            "overflow": null,
            "overflow_x": null,
            "overflow_y": null,
            "padding": null,
            "right": null,
            "top": null,
            "visibility": null,
            "width": null
          }
        },
        "2bbc03c31c1847db8f2e71e86237f0c6": {
          "model_module": "@jupyter-widgets/controls",
          "model_module_version": "1.5.0",
          "model_name": "ProgressStyleModel",
          "state": {
            "_model_module": "@jupyter-widgets/controls",
            "_model_module_version": "1.5.0",
            "_model_name": "ProgressStyleModel",
            "_view_count": null,
            "_view_module": "@jupyter-widgets/base",
            "_view_module_version": "1.2.0",
            "_view_name": "StyleView",
            "bar_color": null,
            "description_width": ""
          }
        },
        "2e7a137425284c50ad3afc51b749559d": {
          "model_module": "@jupyter-widgets/controls",
          "model_module_version": "1.5.0",
          "model_name": "HTMLModel",
          "state": {
            "_dom_classes": [],
            "_model_module": "@jupyter-widgets/controls",
            "_model_module_version": "1.5.0",
            "_model_name": "HTMLModel",
            "_view_count": null,
            "_view_module": "@jupyter-widgets/controls",
            "_view_module_version": "1.5.0",
            "_view_name": "HTMLView",
            "description": "",
            "description_tooltip": null,
            "layout": "IPY_MODEL_f76a2e2e76694b479215d3cde1f2d925",
            "placeholder": "​",
            "style": "IPY_MODEL_9ed76dfd0c1049d49fed1e5d12489b7e",
            "value": " 1.63G/1.63G [00:26&lt;00:00, 68.4MB/s]"
          }
        },
        "3336063f92714b179c939c3bcfc49e63": {
          "model_module": "@jupyter-widgets/controls",
          "model_module_version": "1.5.0",
          "model_name": "DescriptionStyleModel",
          "state": {
            "_model_module": "@jupyter-widgets/controls",
            "_model_module_version": "1.5.0",
            "_model_name": "DescriptionStyleModel",
            "_view_count": null,
            "_view_module": "@jupyter-widgets/base",
            "_view_module_version": "1.2.0",
            "_view_name": "StyleView",
            "description_width": ""
          }
        },
        "36efd19cef6e42cea554fb0c62db7c22": {
          "model_module": "@jupyter-widgets/base",
          "model_module_version": "1.2.0",
          "model_name": "LayoutModel",
          "state": {
            "_model_module": "@jupyter-widgets/base",
            "_model_module_version": "1.2.0",
            "_model_name": "LayoutModel",
            "_view_count": null,
            "_view_module": "@jupyter-widgets/base",
            "_view_module_version": "1.2.0",
            "_view_name": "LayoutView",
            "align_content": null,
            "align_items": null,
            "align_self": null,
            "border": null,
            "bottom": null,
            "display": null,
            "flex": null,
            "flex_flow": null,
            "grid_area": null,
            "grid_auto_columns": null,
            "grid_auto_flow": null,
            "grid_auto_rows": null,
            "grid_column": null,
            "grid_gap": null,
            "grid_row": null,
            "grid_template_areas": null,
            "grid_template_columns": null,
            "grid_template_rows": null,
            "height": null,
            "justify_content": null,
            "justify_items": null,
            "left": null,
            "margin": null,
            "max_height": null,
            "max_width": null,
            "min_height": null,
            "min_width": null,
            "object_fit": null,
            "object_position": null,
            "order": null,
            "overflow": null,
            "overflow_x": null,
            "overflow_y": null,
            "padding": null,
            "right": null,
            "top": null,
            "visibility": null,
            "width": null
          }
        },
        "3c059a788b164bccbf17d4c63d92ad29": {
          "model_module": "@jupyter-widgets/base",
          "model_module_version": "1.2.0",
          "model_name": "LayoutModel",
          "state": {
            "_model_module": "@jupyter-widgets/base",
            "_model_module_version": "1.2.0",
            "_model_name": "LayoutModel",
            "_view_count": null,
            "_view_module": "@jupyter-widgets/base",
            "_view_module_version": "1.2.0",
            "_view_name": "LayoutView",
            "align_content": null,
            "align_items": null,
            "align_self": null,
            "border": null,
            "bottom": null,
            "display": null,
            "flex": null,
            "flex_flow": null,
            "grid_area": null,
            "grid_auto_columns": null,
            "grid_auto_flow": null,
            "grid_auto_rows": null,
            "grid_column": null,
            "grid_gap": null,
            "grid_row": null,
            "grid_template_areas": null,
            "grid_template_columns": null,
            "grid_template_rows": null,
            "height": null,
            "justify_content": null,
            "justify_items": null,
            "left": null,
            "margin": null,
            "max_height": null,
            "max_width": null,
            "min_height": null,
            "min_width": null,
            "object_fit": null,
            "object_position": null,
            "order": null,
            "overflow": null,
            "overflow_x": null,
            "overflow_y": null,
            "padding": null,
            "right": null,
            "top": null,
            "visibility": null,
            "width": null
          }
        },
        "3c9d239e57ee411c9e095c27d1acc8ca": {
          "model_module": "@jupyter-widgets/controls",
          "model_module_version": "1.5.0",
          "model_name": "HBoxModel",
          "state": {
            "_dom_classes": [],
            "_model_module": "@jupyter-widgets/controls",
            "_model_module_version": "1.5.0",
            "_model_name": "HBoxModel",
            "_view_count": null,
            "_view_module": "@jupyter-widgets/controls",
            "_view_module_version": "1.5.0",
            "_view_name": "HBoxView",
            "box_style": "",
            "children": [
              "IPY_MODEL_b39e77c0da024e13863cc7c7ce09ecf4",
              "IPY_MODEL_3f7dc0dacf9045e68f6d269008c5c37c",
              "IPY_MODEL_2e7a137425284c50ad3afc51b749559d"
            ],
            "layout": "IPY_MODEL_7a5b9f21377044519c731c068af0dcbd"
          }
        },
        "3d8ad750f5a34e08944246472beaaa4f": {
          "model_module": "@jupyter-widgets/controls",
          "model_module_version": "1.5.0",
          "model_name": "DescriptionStyleModel",
          "state": {
            "_model_module": "@jupyter-widgets/controls",
            "_model_module_version": "1.5.0",
            "_model_name": "DescriptionStyleModel",
            "_view_count": null,
            "_view_module": "@jupyter-widgets/base",
            "_view_module_version": "1.2.0",
            "_view_name": "StyleView",
            "description_width": ""
          }
        },
        "3f7dc0dacf9045e68f6d269008c5c37c": {
          "model_module": "@jupyter-widgets/controls",
          "model_module_version": "1.5.0",
          "model_name": "FloatProgressModel",
          "state": {
            "_dom_classes": [],
            "_model_module": "@jupyter-widgets/controls",
            "_model_module_version": "1.5.0",
            "_model_name": "FloatProgressModel",
            "_view_count": null,
            "_view_module": "@jupyter-widgets/controls",
            "_view_module_version": "1.5.0",
            "_view_name": "ProgressView",
            "bar_style": "success",
            "description": "",
            "description_tooltip": null,
            "layout": "IPY_MODEL_c87c7f0698e044b3b6ad75251ceca679",
            "max": 1629437147,
            "min": 0,
            "orientation": "horizontal",
            "style": "IPY_MODEL_269c7c93514348a99a6a08c2fd06243b",
            "value": 1629437147
          }
        },
        "46a65c96775846119bbbf0e45443a3b8": {
          "model_module": "@jupyter-widgets/controls",
          "model_module_version": "1.5.0",
          "model_name": "FloatProgressModel",
          "state": {
            "_dom_classes": [],
            "_model_module": "@jupyter-widgets/controls",
            "_model_module_version": "1.5.0",
            "_model_name": "FloatProgressModel",
            "_view_count": null,
            "_view_module": "@jupyter-widgets/controls",
            "_view_module_version": "1.5.0",
            "_view_name": "ProgressView",
            "bar_style": "success",
            "description": "",
            "description_tooltip": null,
            "layout": "IPY_MODEL_840165adcc7e40519c407ed7c6bb9633",
            "max": 1,
            "min": 0,
            "orientation": "horizontal",
            "style": "IPY_MODEL_66b92271a42240b6a26b58307b4a49ae",
            "value": 1
          }
        },
        "471d6dd37677488dbbca9440d4fa4f2a": {
          "model_module": "@jupyter-widgets/controls",
          "model_module_version": "1.5.0",
          "model_name": "FloatProgressModel",
          "state": {
            "_dom_classes": [],
            "_model_module": "@jupyter-widgets/controls",
            "_model_module_version": "1.5.0",
            "_model_name": "FloatProgressModel",
            "_view_count": null,
            "_view_module": "@jupyter-widgets/controls",
            "_view_module_version": "1.5.0",
            "_view_name": "ProgressView",
            "bar_style": "success",
            "description": "",
            "description_tooltip": null,
            "layout": "IPY_MODEL_cf5d54b35dfb485288b58d9efc2cdc5b",
            "max": 1,
            "min": 0,
            "orientation": "horizontal",
            "style": "IPY_MODEL_7ddae2a6debe40f088bd056d03160ec7",
            "value": 1
          }
        },
        "4bd9d92dbde043519fa622644c0f3adb": {
          "model_module": "@jupyter-widgets/controls",
          "model_module_version": "1.5.0",
          "model_name": "HTMLModel",
          "state": {
            "_dom_classes": [],
            "_model_module": "@jupyter-widgets/controls",
            "_model_module_version": "1.5.0",
            "_model_name": "HTMLModel",
            "_view_count": null,
            "_view_module": "@jupyter-widgets/controls",
            "_view_module_version": "1.5.0",
            "_view_name": "HTMLView",
            "description": "",
            "description_tooltip": null,
            "layout": "IPY_MODEL_858062a0d55a44ba93c7b830f447c28b",
            "placeholder": "​",
            "style": "IPY_MODEL_3336063f92714b179c939c3bcfc49e63",
            "value": "merges.txt: "
          }
        },
        "54ede9e9777b463a9dc58ef30048469c": {
          "model_module": "@jupyter-widgets/controls",
          "model_module_version": "1.5.0",
          "model_name": "HBoxModel",
          "state": {
            "_dom_classes": [],
            "_model_module": "@jupyter-widgets/controls",
            "_model_module_version": "1.5.0",
            "_model_name": "HBoxModel",
            "_view_count": null,
            "_view_module": "@jupyter-widgets/controls",
            "_view_module_version": "1.5.0",
            "_view_name": "HBoxView",
            "box_style": "",
            "children": [
              "IPY_MODEL_7fab6bd43ce342dfa5a1f4fc5df11455",
              "IPY_MODEL_f2296b1c06fe49989a608bc2b7ab9982",
              "IPY_MODEL_124c0036cb844e7493aba63f6efd6905"
            ],
            "layout": "IPY_MODEL_36efd19cef6e42cea554fb0c62db7c22"
          }
        },
        "5749c35a411c42dd8d5871e981ee743f": {
          "model_module": "@jupyter-widgets/base",
          "model_module_version": "1.2.0",
          "model_name": "LayoutModel",
          "state": {
            "_model_module": "@jupyter-widgets/base",
            "_model_module_version": "1.2.0",
            "_model_name": "LayoutModel",
            "_view_count": null,
            "_view_module": "@jupyter-widgets/base",
            "_view_module_version": "1.2.0",
            "_view_name": "LayoutView",
            "align_content": null,
            "align_items": null,
            "align_self": null,
            "border": null,
            "bottom": null,
            "display": null,
            "flex": null,
            "flex_flow": null,
            "grid_area": null,
            "grid_auto_columns": null,
            "grid_auto_flow": null,
            "grid_auto_rows": null,
            "grid_column": null,
            "grid_gap": null,
            "grid_row": null,
            "grid_template_areas": null,
            "grid_template_columns": null,
            "grid_template_rows": null,
            "height": null,
            "justify_content": null,
            "justify_items": null,
            "left": null,
            "margin": null,
            "max_height": null,
            "max_width": null,
            "min_height": null,
            "min_width": null,
            "object_fit": null,
            "object_position": null,
            "order": null,
            "overflow": null,
            "overflow_x": null,
            "overflow_y": null,
            "padding": null,
            "right": null,
            "top": null,
            "visibility": null,
            "width": null
          }
        },
        "59393b3c23dc482e860cf4e7c5038ce7": {
          "model_module": "@jupyter-widgets/controls",
          "model_module_version": "1.5.0",
          "model_name": "DescriptionStyleModel",
          "state": {
            "_model_module": "@jupyter-widgets/controls",
            "_model_module_version": "1.5.0",
            "_model_name": "DescriptionStyleModel",
            "_view_count": null,
            "_view_module": "@jupyter-widgets/base",
            "_view_module_version": "1.2.0",
            "_view_name": "StyleView",
            "description_width": ""
          }
        },
        "5a2fe9a6d3db4fd895e35aafdf97f479": {
          "model_module": "@jupyter-widgets/controls",
          "model_module_version": "1.5.0",
          "model_name": "HTMLModel",
          "state": {
            "_dom_classes": [],
            "_model_module": "@jupyter-widgets/controls",
            "_model_module_version": "1.5.0",
            "_model_name": "HTMLModel",
            "_view_count": null,
            "_view_module": "@jupyter-widgets/controls",
            "_view_module_version": "1.5.0",
            "_view_name": "HTMLView",
            "description": "",
            "description_tooltip": null,
            "layout": "IPY_MODEL_aadfb2e040904f7f98c76bd3b2fc20a0",
            "placeholder": "​",
            "style": "IPY_MODEL_cd0c29c5a7b847fa9aa7aa6597934e80",
            "value": "vocab.json: "
          }
        },
        "6039e71a62e5420e97488efdcb7a2d0d": {
          "model_module": "@jupyter-widgets/base",
          "model_module_version": "1.2.0",
          "model_name": "LayoutModel",
          "state": {
            "_model_module": "@jupyter-widgets/base",
            "_model_module_version": "1.2.0",
            "_model_name": "LayoutModel",
            "_view_count": null,
            "_view_module": "@jupyter-widgets/base",
            "_view_module_version": "1.2.0",
            "_view_name": "LayoutView",
            "align_content": null,
            "align_items": null,
            "align_self": null,
            "border": null,
            "bottom": null,
            "display": null,
            "flex": null,
            "flex_flow": null,
            "grid_area": null,
            "grid_auto_columns": null,
            "grid_auto_flow": null,
            "grid_auto_rows": null,
            "grid_column": null,
            "grid_gap": null,
            "grid_row": null,
            "grid_template_areas": null,
            "grid_template_columns": null,
            "grid_template_rows": null,
            "height": null,
            "justify_content": null,
            "justify_items": null,
            "left": null,
            "margin": null,
            "max_height": null,
            "max_width": null,
            "min_height": null,
            "min_width": null,
            "object_fit": null,
            "object_position": null,
            "order": null,
            "overflow": null,
            "overflow_x": null,
            "overflow_y": null,
            "padding": null,
            "right": null,
            "top": null,
            "visibility": null,
            "width": null
          }
        },
        "66b92271a42240b6a26b58307b4a49ae": {
          "model_module": "@jupyter-widgets/controls",
          "model_module_version": "1.5.0",
          "model_name": "ProgressStyleModel",
          "state": {
            "_model_module": "@jupyter-widgets/controls",
            "_model_module_version": "1.5.0",
            "_model_name": "ProgressStyleModel",
            "_view_count": null,
            "_view_module": "@jupyter-widgets/base",
            "_view_module_version": "1.2.0",
            "_view_name": "StyleView",
            "bar_color": null,
            "description_width": ""
          }
        },
        "687a63aedf9042c5b4882ad0ceda8c83": {
          "model_module": "@jupyter-widgets/base",
          "model_module_version": "1.2.0",
          "model_name": "LayoutModel",
          "state": {
            "_model_module": "@jupyter-widgets/base",
            "_model_module_version": "1.2.0",
            "_model_name": "LayoutModel",
            "_view_count": null,
            "_view_module": "@jupyter-widgets/base",
            "_view_module_version": "1.2.0",
            "_view_name": "LayoutView",
            "align_content": null,
            "align_items": null,
            "align_self": null,
            "border": null,
            "bottom": null,
            "display": null,
            "flex": null,
            "flex_flow": null,
            "grid_area": null,
            "grid_auto_columns": null,
            "grid_auto_flow": null,
            "grid_auto_rows": null,
            "grid_column": null,
            "grid_gap": null,
            "grid_row": null,
            "grid_template_areas": null,
            "grid_template_columns": null,
            "grid_template_rows": null,
            "height": null,
            "justify_content": null,
            "justify_items": null,
            "left": null,
            "margin": null,
            "max_height": null,
            "max_width": null,
            "min_height": null,
            "min_width": null,
            "object_fit": null,
            "object_position": null,
            "order": null,
            "overflow": null,
            "overflow_x": null,
            "overflow_y": null,
            "padding": null,
            "right": null,
            "top": null,
            "visibility": null,
            "width": "20px"
          }
        },
        "6982138a5721429c9ff6e5b95f88327a": {
          "model_module": "@jupyter-widgets/controls",
          "model_module_version": "1.5.0",
          "model_name": "DescriptionStyleModel",
          "state": {
            "_model_module": "@jupyter-widgets/controls",
            "_model_module_version": "1.5.0",
            "_model_name": "DescriptionStyleModel",
            "_view_count": null,
            "_view_module": "@jupyter-widgets/base",
            "_view_module_version": "1.2.0",
            "_view_name": "StyleView",
            "description_width": ""
          }
        },
        "6b096cf3719647619ba6fc9434cac78c": {
          "model_module": "@jupyter-widgets/controls",
          "model_module_version": "1.5.0",
          "model_name": "HTMLModel",
          "state": {
            "_dom_classes": [],
            "_model_module": "@jupyter-widgets/controls",
            "_model_module_version": "1.5.0",
            "_model_name": "HTMLModel",
            "_view_count": null,
            "_view_module": "@jupyter-widgets/controls",
            "_view_module_version": "1.5.0",
            "_view_name": "HTMLView",
            "description": "",
            "description_tooltip": null,
            "layout": "IPY_MODEL_5749c35a411c42dd8d5871e981ee743f",
            "placeholder": "​",
            "style": "IPY_MODEL_6982138a5721429c9ff6e5b95f88327a",
            "value": "tokenizer.json: "
          }
        },
        "7a5b9f21377044519c731c068af0dcbd": {
          "model_module": "@jupyter-widgets/base",
          "model_module_version": "1.2.0",
          "model_name": "LayoutModel",
          "state": {
            "_model_module": "@jupyter-widgets/base",
            "_model_module_version": "1.2.0",
            "_model_name": "LayoutModel",
            "_view_count": null,
            "_view_module": "@jupyter-widgets/base",
            "_view_module_version": "1.2.0",
            "_view_name": "LayoutView",
            "align_content": null,
            "align_items": null,
            "align_self": null,
            "border": null,
            "bottom": null,
            "display": null,
            "flex": null,
            "flex_flow": null,
            "grid_area": null,
            "grid_auto_columns": null,
            "grid_auto_flow": null,
            "grid_auto_rows": null,
            "grid_column": null,
            "grid_gap": null,
            "grid_row": null,
            "grid_template_areas": null,
            "grid_template_columns": null,
            "grid_template_rows": null,
            "height": null,
            "justify_content": null,
            "justify_items": null,
            "left": null,
            "margin": null,
            "max_height": null,
            "max_width": null,
            "min_height": null,
            "min_width": null,
            "object_fit": null,
            "object_position": null,
            "order": null,
            "overflow": null,
            "overflow_x": null,
            "overflow_y": null,
            "padding": null,
            "right": null,
            "top": null,
            "visibility": null,
            "width": null
          }
        },
        "7ddae2a6debe40f088bd056d03160ec7": {
          "model_module": "@jupyter-widgets/controls",
          "model_module_version": "1.5.0",
          "model_name": "ProgressStyleModel",
          "state": {
            "_model_module": "@jupyter-widgets/controls",
            "_model_module_version": "1.5.0",
            "_model_name": "ProgressStyleModel",
            "_view_count": null,
            "_view_module": "@jupyter-widgets/base",
            "_view_module_version": "1.2.0",
            "_view_name": "StyleView",
            "bar_color": null,
            "description_width": ""
          }
        },
        "7fab6bd43ce342dfa5a1f4fc5df11455": {
          "model_module": "@jupyter-widgets/controls",
          "model_module_version": "1.5.0",
          "model_name": "HTMLModel",
          "state": {
            "_dom_classes": [],
            "_model_module": "@jupyter-widgets/controls",
            "_model_module_version": "1.5.0",
            "_model_name": "HTMLModel",
            "_view_count": null,
            "_view_module": "@jupyter-widgets/controls",
            "_view_module_version": "1.5.0",
            "_view_name": "HTMLView",
            "description": "",
            "description_tooltip": null,
            "layout": "IPY_MODEL_aff45ccf5270461abfb9da5480c396c3",
            "placeholder": "​",
            "style": "IPY_MODEL_29d3875b33494d8e8c20afdce0a36b38",
            "value": "tokenizer_config.json: 100%"
          }
        },
        "80eddab31fdd424e8a500595833fcec5": {
          "model_module": "@jupyter-widgets/controls",
          "model_module_version": "1.5.0",
          "model_name": "HTMLModel",
          "state": {
            "_dom_classes": [],
            "_model_module": "@jupyter-widgets/controls",
            "_model_module_version": "1.5.0",
            "_model_name": "HTMLModel",
            "_view_count": null,
            "_view_module": "@jupyter-widgets/controls",
            "_view_module_version": "1.5.0",
            "_view_name": "HTMLView",
            "description": "",
            "description_tooltip": null,
            "layout": "IPY_MODEL_bc96a0c6ddfd463fb35f93da3500c990",
            "placeholder": "​",
            "style": "IPY_MODEL_83c5ed391b3a4daf8cbed226a9b61a2e",
            "value": " 1.36M/? [00:00&lt;00:00, 45.3MB/s]"
          }
        },
        "83c5ed391b3a4daf8cbed226a9b61a2e": {
          "model_module": "@jupyter-widgets/controls",
          "model_module_version": "1.5.0",
          "model_name": "DescriptionStyleModel",
          "state": {
            "_model_module": "@jupyter-widgets/controls",
            "_model_module_version": "1.5.0",
            "_model_name": "DescriptionStyleModel",
            "_view_count": null,
            "_view_module": "@jupyter-widgets/base",
            "_view_module_version": "1.2.0",
            "_view_name": "StyleView",
            "description_width": ""
          }
        },
        "840165adcc7e40519c407ed7c6bb9633": {
          "model_module": "@jupyter-widgets/base",
          "model_module_version": "1.2.0",
          "model_name": "LayoutModel",
          "state": {
            "_model_module": "@jupyter-widgets/base",
            "_model_module_version": "1.2.0",
            "_model_name": "LayoutModel",
            "_view_count": null,
            "_view_module": "@jupyter-widgets/base",
            "_view_module_version": "1.2.0",
            "_view_name": "LayoutView",
            "align_content": null,
            "align_items": null,
            "align_self": null,
            "border": null,
            "bottom": null,
            "display": null,
            "flex": null,
            "flex_flow": null,
            "grid_area": null,
            "grid_auto_columns": null,
            "grid_auto_flow": null,
            "grid_auto_rows": null,
            "grid_column": null,
            "grid_gap": null,
            "grid_row": null,
            "grid_template_areas": null,
            "grid_template_columns": null,
            "grid_template_rows": null,
            "height": null,
            "justify_content": null,
            "justify_items": null,
            "left": null,
            "margin": null,
            "max_height": null,
            "max_width": null,
            "min_height": null,
            "min_width": null,
            "object_fit": null,
            "object_position": null,
            "order": null,
            "overflow": null,
            "overflow_x": null,
            "overflow_y": null,
            "padding": null,
            "right": null,
            "top": null,
            "visibility": null,
            "width": "20px"
          }
        },
        "858062a0d55a44ba93c7b830f447c28b": {
          "model_module": "@jupyter-widgets/base",
          "model_module_version": "1.2.0",
          "model_name": "LayoutModel",
          "state": {
            "_model_module": "@jupyter-widgets/base",
            "_model_module_version": "1.2.0",
            "_model_name": "LayoutModel",
            "_view_count": null,
            "_view_module": "@jupyter-widgets/base",
            "_view_module_version": "1.2.0",
            "_view_name": "LayoutView",
            "align_content": null,
            "align_items": null,
            "align_self": null,
            "border": null,
            "bottom": null,
            "display": null,
            "flex": null,
            "flex_flow": null,
            "grid_area": null,
            "grid_auto_columns": null,
            "grid_auto_flow": null,
            "grid_auto_rows": null,
            "grid_column": null,
            "grid_gap": null,
            "grid_row": null,
            "grid_template_areas": null,
            "grid_template_columns": null,
            "grid_template_rows": null,
            "height": null,
            "justify_content": null,
            "justify_items": null,
            "left": null,
            "margin": null,
            "max_height": null,
            "max_width": null,
            "min_height": null,
            "min_width": null,
            "object_fit": null,
            "object_position": null,
            "order": null,
            "overflow": null,
            "overflow_x": null,
            "overflow_y": null,
            "padding": null,
            "right": null,
            "top": null,
            "visibility": null,
            "width": null
          }
        },
        "88aff01cca6248deae4e172559efbaa4": {
          "model_module": "@jupyter-widgets/controls",
          "model_module_version": "1.5.0",
          "model_name": "ProgressStyleModel",
          "state": {
            "_model_module": "@jupyter-widgets/controls",
            "_model_module_version": "1.5.0",
            "_model_name": "ProgressStyleModel",
            "_view_count": null,
            "_view_module": "@jupyter-widgets/base",
            "_view_module_version": "1.2.0",
            "_view_name": "StyleView",
            "bar_color": null,
            "description_width": ""
          }
        },
        "8f55ea9ffc25476283a9a806ab2da010": {
          "model_module": "@jupyter-widgets/base",
          "model_module_version": "1.2.0",
          "model_name": "LayoutModel",
          "state": {
            "_model_module": "@jupyter-widgets/base",
            "_model_module_version": "1.2.0",
            "_model_name": "LayoutModel",
            "_view_count": null,
            "_view_module": "@jupyter-widgets/base",
            "_view_module_version": "1.2.0",
            "_view_name": "LayoutView",
            "align_content": null,
            "align_items": null,
            "align_self": null,
            "border": null,
            "bottom": null,
            "display": null,
            "flex": null,
            "flex_flow": null,
            "grid_area": null,
            "grid_auto_columns": null,
            "grid_auto_flow": null,
            "grid_auto_rows": null,
            "grid_column": null,
            "grid_gap": null,
            "grid_row": null,
            "grid_template_areas": null,
            "grid_template_columns": null,
            "grid_template_rows": null,
            "height": null,
            "justify_content": null,
            "justify_items": null,
            "left": null,
            "margin": null,
            "max_height": null,
            "max_width": null,
            "min_height": null,
            "min_width": null,
            "object_fit": null,
            "object_position": null,
            "order": null,
            "overflow": null,
            "overflow_x": null,
            "overflow_y": null,
            "padding": null,
            "right": null,
            "top": null,
            "visibility": null,
            "width": null
          }
        },
        "904ecd6c15004ba3854f1ec69836c5d9": {
          "model_module": "@jupyter-widgets/base",
          "model_module_version": "1.2.0",
          "model_name": "LayoutModel",
          "state": {
            "_model_module": "@jupyter-widgets/base",
            "_model_module_version": "1.2.0",
            "_model_name": "LayoutModel",
            "_view_count": null,
            "_view_module": "@jupyter-widgets/base",
            "_view_module_version": "1.2.0",
            "_view_name": "LayoutView",
            "align_content": null,
            "align_items": null,
            "align_self": null,
            "border": null,
            "bottom": null,
            "display": null,
            "flex": null,
            "flex_flow": null,
            "grid_area": null,
            "grid_auto_columns": null,
            "grid_auto_flow": null,
            "grid_auto_rows": null,
            "grid_column": null,
            "grid_gap": null,
            "grid_row": null,
            "grid_template_areas": null,
            "grid_template_columns": null,
            "grid_template_rows": null,
            "height": null,
            "justify_content": null,
            "justify_items": null,
            "left": null,
            "margin": null,
            "max_height": null,
            "max_width": null,
            "min_height": null,
            "min_width": null,
            "object_fit": null,
            "object_position": null,
            "order": null,
            "overflow": null,
            "overflow_x": null,
            "overflow_y": null,
            "padding": null,
            "right": null,
            "top": null,
            "visibility": null,
            "width": null
          }
        },
        "90bb608381644d41b7c3302e779f0d90": {
          "model_module": "@jupyter-widgets/base",
          "model_module_version": "1.2.0",
          "model_name": "LayoutModel",
          "state": {
            "_model_module": "@jupyter-widgets/base",
            "_model_module_version": "1.2.0",
            "_model_name": "LayoutModel",
            "_view_count": null,
            "_view_module": "@jupyter-widgets/base",
            "_view_module_version": "1.2.0",
            "_view_name": "LayoutView",
            "align_content": null,
            "align_items": null,
            "align_self": null,
            "border": null,
            "bottom": null,
            "display": null,
            "flex": null,
            "flex_flow": null,
            "grid_area": null,
            "grid_auto_columns": null,
            "grid_auto_flow": null,
            "grid_auto_rows": null,
            "grid_column": null,
            "grid_gap": null,
            "grid_row": null,
            "grid_template_areas": null,
            "grid_template_columns": null,
            "grid_template_rows": null,
            "height": null,
            "justify_content": null,
            "justify_items": null,
            "left": null,
            "margin": null,
            "max_height": null,
            "max_width": null,
            "min_height": null,
            "min_width": null,
            "object_fit": null,
            "object_position": null,
            "order": null,
            "overflow": null,
            "overflow_x": null,
            "overflow_y": null,
            "padding": null,
            "right": null,
            "top": null,
            "visibility": null,
            "width": "20px"
          }
        },
        "990592ae12184ca5a2f424b1d7935a40": {
          "model_module": "@jupyter-widgets/controls",
          "model_module_version": "1.5.0",
          "model_name": "FloatProgressModel",
          "state": {
            "_dom_classes": [],
            "_model_module": "@jupyter-widgets/controls",
            "_model_module_version": "1.5.0",
            "_model_name": "FloatProgressModel",
            "_view_count": null,
            "_view_module": "@jupyter-widgets/controls",
            "_view_module_version": "1.5.0",
            "_view_name": "ProgressView",
            "bar_style": "success",
            "description": "",
            "description_tooltip": null,
            "layout": "IPY_MODEL_90bb608381644d41b7c3302e779f0d90",
            "max": 1,
            "min": 0,
            "orientation": "horizontal",
            "style": "IPY_MODEL_e990409916d946048b4c2e2e8c3c04f4",
            "value": 1
          }
        },
        "9c379451621c4bc0bfcde3fb4cf25e9a": {
          "model_module": "@jupyter-widgets/controls",
          "model_module_version": "1.5.0",
          "model_name": "DescriptionStyleModel",
          "state": {
            "_model_module": "@jupyter-widgets/controls",
            "_model_module_version": "1.5.0",
            "_model_name": "DescriptionStyleModel",
            "_view_count": null,
            "_view_module": "@jupyter-widgets/base",
            "_view_module_version": "1.2.0",
            "_view_name": "StyleView",
            "description_width": ""
          }
        },
        "9c9d83d79a3447398fd9be63258f24b4": {
          "model_module": "@jupyter-widgets/controls",
          "model_module_version": "1.5.0",
          "model_name": "HBoxModel",
          "state": {
            "_dom_classes": [],
            "_model_module": "@jupyter-widgets/controls",
            "_model_module_version": "1.5.0",
            "_model_name": "HBoxModel",
            "_view_count": null,
            "_view_module": "@jupyter-widgets/controls",
            "_view_module_version": "1.5.0",
            "_view_name": "HBoxView",
            "box_style": "",
            "children": [
              "IPY_MODEL_6b096cf3719647619ba6fc9434cac78c",
              "IPY_MODEL_990592ae12184ca5a2f424b1d7935a40",
              "IPY_MODEL_80eddab31fdd424e8a500595833fcec5"
            ],
            "layout": "IPY_MODEL_cbe9bbe8b8ff455d881d69f43af70534"
          }
        },
        "9ed76dfd0c1049d49fed1e5d12489b7e": {
          "model_module": "@jupyter-widgets/controls",
          "model_module_version": "1.5.0",
          "model_name": "DescriptionStyleModel",
          "state": {
            "_model_module": "@jupyter-widgets/controls",
            "_model_module_version": "1.5.0",
            "_model_name": "DescriptionStyleModel",
            "_view_count": null,
            "_view_module": "@jupyter-widgets/base",
            "_view_module_version": "1.2.0",
            "_view_name": "StyleView",
            "description_width": ""
          }
        },
        "a60cd54da24844099a0328154bead4bd": {
          "model_module": "@jupyter-widgets/controls",
          "model_module_version": "1.5.0",
          "model_name": "HTMLModel",
          "state": {
            "_dom_classes": [],
            "_model_module": "@jupyter-widgets/controls",
            "_model_module_version": "1.5.0",
            "_model_name": "HTMLModel",
            "_view_count": null,
            "_view_module": "@jupyter-widgets/controls",
            "_view_module_version": "1.5.0",
            "_view_name": "HTMLView",
            "description": "",
            "description_tooltip": null,
            "layout": "IPY_MODEL_16f4d856b4014a82b718c8d943db5b70",
            "placeholder": "​",
            "style": "IPY_MODEL_59393b3c23dc482e860cf4e7c5038ce7",
            "value": "config.json: "
          }
        },
        "aa9d2186b8914dc08ab2256e88a33300": {
          "model_module": "@jupyter-widgets/controls",
          "model_module_version": "1.5.0",
          "model_name": "HBoxModel",
          "state": {
            "_dom_classes": [],
            "_model_module": "@jupyter-widgets/controls",
            "_model_module_version": "1.5.0",
            "_model_name": "HBoxModel",
            "_view_count": null,
            "_view_module": "@jupyter-widgets/controls",
            "_view_module_version": "1.5.0",
            "_view_name": "HBoxView",
            "box_style": "",
            "children": [
              "IPY_MODEL_5a2fe9a6d3db4fd895e35aafdf97f479",
              "IPY_MODEL_06d1adad50024a94b206cfe43bec208f",
              "IPY_MODEL_f00abfd02b0846afbb1c36ac563a75e1"
            ],
            "layout": "IPY_MODEL_2b8d26c33c6845879c030a8a252fb351"
          }
        },
        "aadfb2e040904f7f98c76bd3b2fc20a0": {
          "model_module": "@jupyter-widgets/base",
          "model_module_version": "1.2.0",
          "model_name": "LayoutModel",
          "state": {
            "_model_module": "@jupyter-widgets/base",
            "_model_module_version": "1.2.0",
            "_model_name": "LayoutModel",
            "_view_count": null,
            "_view_module": "@jupyter-widgets/base",
            "_view_module_version": "1.2.0",
            "_view_name": "LayoutView",
            "align_content": null,
            "align_items": null,
            "align_self": null,
            "border": null,
            "bottom": null,
            "display": null,
            "flex": null,
            "flex_flow": null,
            "grid_area": null,
            "grid_auto_columns": null,
            "grid_auto_flow": null,
            "grid_auto_rows": null,
            "grid_column": null,
            "grid_gap": null,
            "grid_row": null,
            "grid_template_areas": null,
            "grid_template_columns": null,
            "grid_template_rows": null,
            "height": null,
            "justify_content": null,
            "justify_items": null,
            "left": null,
            "margin": null,
            "max_height": null,
            "max_width": null,
            "min_height": null,
            "min_width": null,
            "object_fit": null,
            "object_position": null,
            "order": null,
            "overflow": null,
            "overflow_x": null,
            "overflow_y": null,
            "padding": null,
            "right": null,
            "top": null,
            "visibility": null,
            "width": null
          }
        },
        "aff45ccf5270461abfb9da5480c396c3": {
          "model_module": "@jupyter-widgets/base",
          "model_module_version": "1.2.0",
          "model_name": "LayoutModel",
          "state": {
            "_model_module": "@jupyter-widgets/base",
            "_model_module_version": "1.2.0",
            "_model_name": "LayoutModel",
            "_view_count": null,
            "_view_module": "@jupyter-widgets/base",
            "_view_module_version": "1.2.0",
            "_view_name": "LayoutView",
            "align_content": null,
            "align_items": null,
            "align_self": null,
            "border": null,
            "bottom": null,
            "display": null,
            "flex": null,
            "flex_flow": null,
            "grid_area": null,
            "grid_auto_columns": null,
            "grid_auto_flow": null,
            "grid_auto_rows": null,
            "grid_column": null,
            "grid_gap": null,
            "grid_row": null,
            "grid_template_areas": null,
            "grid_template_columns": null,
            "grid_template_rows": null,
            "height": null,
            "justify_content": null,
            "justify_items": null,
            "left": null,
            "margin": null,
            "max_height": null,
            "max_width": null,
            "min_height": null,
            "min_width": null,
            "object_fit": null,
            "object_position": null,
            "order": null,
            "overflow": null,
            "overflow_x": null,
            "overflow_y": null,
            "padding": null,
            "right": null,
            "top": null,
            "visibility": null,
            "width": null
          }
        },
        "b39e77c0da024e13863cc7c7ce09ecf4": {
          "model_module": "@jupyter-widgets/controls",
          "model_module_version": "1.5.0",
          "model_name": "HTMLModel",
          "state": {
            "_dom_classes": [],
            "_model_module": "@jupyter-widgets/controls",
            "_model_module_version": "1.5.0",
            "_model_name": "HTMLModel",
            "_view_count": null,
            "_view_module": "@jupyter-widgets/controls",
            "_view_module_version": "1.5.0",
            "_view_name": "HTMLView",
            "description": "",
            "description_tooltip": null,
            "layout": "IPY_MODEL_e040401f97d3473e88d9cf385b05963f",
            "placeholder": "​",
            "style": "IPY_MODEL_d2ac34ce18814a9ebcb2e356c7dd14f8",
            "value": "model.safetensors: 100%"
          }
        },
        "bc96a0c6ddfd463fb35f93da3500c990": {
          "model_module": "@jupyter-widgets/base",
          "model_module_version": "1.2.0",
          "model_name": "LayoutModel",
          "state": {
            "_model_module": "@jupyter-widgets/base",
            "_model_module_version": "1.2.0",
            "_model_name": "LayoutModel",
            "_view_count": null,
            "_view_module": "@jupyter-widgets/base",
            "_view_module_version": "1.2.0",
            "_view_name": "LayoutView",
            "align_content": null,
            "align_items": null,
            "align_self": null,
            "border": null,
            "bottom": null,
            "display": null,
            "flex": null,
            "flex_flow": null,
            "grid_area": null,
            "grid_auto_columns": null,
            "grid_auto_flow": null,
            "grid_auto_rows": null,
            "grid_column": null,
            "grid_gap": null,
            "grid_row": null,
            "grid_template_areas": null,
            "grid_template_columns": null,
            "grid_template_rows": null,
            "height": null,
            "justify_content": null,
            "justify_items": null,
            "left": null,
            "margin": null,
            "max_height": null,
            "max_width": null,
            "min_height": null,
            "min_width": null,
            "object_fit": null,
            "object_position": null,
            "order": null,
            "overflow": null,
            "overflow_x": null,
            "overflow_y": null,
            "padding": null,
            "right": null,
            "top": null,
            "visibility": null,
            "width": null
          }
        },
        "c87c7f0698e044b3b6ad75251ceca679": {
          "model_module": "@jupyter-widgets/base",
          "model_module_version": "1.2.0",
          "model_name": "LayoutModel",
          "state": {
            "_model_module": "@jupyter-widgets/base",
            "_model_module_version": "1.2.0",
            "_model_name": "LayoutModel",
            "_view_count": null,
            "_view_module": "@jupyter-widgets/base",
            "_view_module_version": "1.2.0",
            "_view_name": "LayoutView",
            "align_content": null,
            "align_items": null,
            "align_self": null,
            "border": null,
            "bottom": null,
            "display": null,
            "flex": null,
            "flex_flow": null,
            "grid_area": null,
            "grid_auto_columns": null,
            "grid_auto_flow": null,
            "grid_auto_rows": null,
            "grid_column": null,
            "grid_gap": null,
            "grid_row": null,
            "grid_template_areas": null,
            "grid_template_columns": null,
            "grid_template_rows": null,
            "height": null,
            "justify_content": null,
            "justify_items": null,
            "left": null,
            "margin": null,
            "max_height": null,
            "max_width": null,
            "min_height": null,
            "min_width": null,
            "object_fit": null,
            "object_position": null,
            "order": null,
            "overflow": null,
            "overflow_x": null,
            "overflow_y": null,
            "padding": null,
            "right": null,
            "top": null,
            "visibility": null,
            "width": null
          }
        },
        "cbe9bbe8b8ff455d881d69f43af70534": {
          "model_module": "@jupyter-widgets/base",
          "model_module_version": "1.2.0",
          "model_name": "LayoutModel",
          "state": {
            "_model_module": "@jupyter-widgets/base",
            "_model_module_version": "1.2.0",
            "_model_name": "LayoutModel",
            "_view_count": null,
            "_view_module": "@jupyter-widgets/base",
            "_view_module_version": "1.2.0",
            "_view_name": "LayoutView",
            "align_content": null,
            "align_items": null,
            "align_self": null,
            "border": null,
            "bottom": null,
            "display": null,
            "flex": null,
            "flex_flow": null,
            "grid_area": null,
            "grid_auto_columns": null,
            "grid_auto_flow": null,
            "grid_auto_rows": null,
            "grid_column": null,
            "grid_gap": null,
            "grid_row": null,
            "grid_template_areas": null,
            "grid_template_columns": null,
            "grid_template_rows": null,
            "height": null,
            "justify_content": null,
            "justify_items": null,
            "left": null,
            "margin": null,
            "max_height": null,
            "max_width": null,
            "min_height": null,
            "min_width": null,
            "object_fit": null,
            "object_position": null,
            "order": null,
            "overflow": null,
            "overflow_x": null,
            "overflow_y": null,
            "padding": null,
            "right": null,
            "top": null,
            "visibility": null,
            "width": null
          }
        },
        "cd0c29c5a7b847fa9aa7aa6597934e80": {
          "model_module": "@jupyter-widgets/controls",
          "model_module_version": "1.5.0",
          "model_name": "DescriptionStyleModel",
          "state": {
            "_model_module": "@jupyter-widgets/controls",
            "_model_module_version": "1.5.0",
            "_model_name": "DescriptionStyleModel",
            "_view_count": null,
            "_view_module": "@jupyter-widgets/base",
            "_view_module_version": "1.2.0",
            "_view_name": "StyleView",
            "description_width": ""
          }
        },
        "cf5d54b35dfb485288b58d9efc2cdc5b": {
          "model_module": "@jupyter-widgets/base",
          "model_module_version": "1.2.0",
          "model_name": "LayoutModel",
          "state": {
            "_model_module": "@jupyter-widgets/base",
            "_model_module_version": "1.2.0",
            "_model_name": "LayoutModel",
            "_view_count": null,
            "_view_module": "@jupyter-widgets/base",
            "_view_module_version": "1.2.0",
            "_view_name": "LayoutView",
            "align_content": null,
            "align_items": null,
            "align_self": null,
            "border": null,
            "bottom": null,
            "display": null,
            "flex": null,
            "flex_flow": null,
            "grid_area": null,
            "grid_auto_columns": null,
            "grid_auto_flow": null,
            "grid_auto_rows": null,
            "grid_column": null,
            "grid_gap": null,
            "grid_row": null,
            "grid_template_areas": null,
            "grid_template_columns": null,
            "grid_template_rows": null,
            "height": null,
            "justify_content": null,
            "justify_items": null,
            "left": null,
            "margin": null,
            "max_height": null,
            "max_width": null,
            "min_height": null,
            "min_width": null,
            "object_fit": null,
            "object_position": null,
            "order": null,
            "overflow": null,
            "overflow_x": null,
            "overflow_y": null,
            "padding": null,
            "right": null,
            "top": null,
            "visibility": null,
            "width": "20px"
          }
        },
        "d2ac34ce18814a9ebcb2e356c7dd14f8": {
          "model_module": "@jupyter-widgets/controls",
          "model_module_version": "1.5.0",
          "model_name": "DescriptionStyleModel",
          "state": {
            "_model_module": "@jupyter-widgets/controls",
            "_model_module_version": "1.5.0",
            "_model_name": "DescriptionStyleModel",
            "_view_count": null,
            "_view_module": "@jupyter-widgets/base",
            "_view_module_version": "1.2.0",
            "_view_name": "StyleView",
            "description_width": ""
          }
        },
        "d7f93ef979ed42169f03c87380f3d212": {
          "model_module": "@jupyter-widgets/controls",
          "model_module_version": "1.5.0",
          "model_name": "HBoxModel",
          "state": {
            "_dom_classes": [],
            "_model_module": "@jupyter-widgets/controls",
            "_model_module_version": "1.5.0",
            "_model_name": "HBoxModel",
            "_view_count": null,
            "_view_module": "@jupyter-widgets/controls",
            "_view_module_version": "1.5.0",
            "_view_name": "HBoxView",
            "box_style": "",
            "children": [
              "IPY_MODEL_a60cd54da24844099a0328154bead4bd",
              "IPY_MODEL_471d6dd37677488dbbca9440d4fa4f2a",
              "IPY_MODEL_dadc47a53fad489388c2a8b068b313ca"
            ],
            "layout": "IPY_MODEL_6039e71a62e5420e97488efdcb7a2d0d"
          }
        },
        "dadc47a53fad489388c2a8b068b313ca": {
          "model_module": "@jupyter-widgets/controls",
          "model_module_version": "1.5.0",
          "model_name": "HTMLModel",
          "state": {
            "_dom_classes": [],
            "_model_module": "@jupyter-widgets/controls",
            "_model_module_version": "1.5.0",
            "_model_name": "HTMLModel",
            "_view_count": null,
            "_view_module": "@jupyter-widgets/controls",
            "_view_module_version": "1.5.0",
            "_view_name": "HTMLView",
            "description": "",
            "description_tooltip": null,
            "layout": "IPY_MODEL_e18e2e546add4dcf9e97fd36ec377673",
            "placeholder": "​",
            "style": "IPY_MODEL_3d8ad750f5a34e08944246472beaaa4f",
            "value": " 1.15k/? [00:00&lt;00:00, 53.0kB/s]"
          }
        },
        "e040401f97d3473e88d9cf385b05963f": {
          "model_module": "@jupyter-widgets/base",
          "model_module_version": "1.2.0",
          "model_name": "LayoutModel",
          "state": {
            "_model_module": "@jupyter-widgets/base",
            "_model_module_version": "1.2.0",
            "_model_name": "LayoutModel",
            "_view_count": null,
            "_view_module": "@jupyter-widgets/base",
            "_view_module_version": "1.2.0",
            "_view_name": "LayoutView",
            "align_content": null,
            "align_items": null,
            "align_self": null,
            "border": null,
            "bottom": null,
            "display": null,
            "flex": null,
            "flex_flow": null,
            "grid_area": null,
            "grid_auto_columns": null,
            "grid_auto_flow": null,
            "grid_auto_rows": null,
            "grid_column": null,
            "grid_gap": null,
            "grid_row": null,
            "grid_template_areas": null,
            "grid_template_columns": null,
            "grid_template_rows": null,
            "height": null,
            "justify_content": null,
            "justify_items": null,
            "left": null,
            "margin": null,
            "max_height": null,
            "max_width": null,
            "min_height": null,
            "min_width": null,
            "object_fit": null,
            "object_position": null,
            "order": null,
            "overflow": null,
            "overflow_x": null,
            "overflow_y": null,
            "padding": null,
            "right": null,
            "top": null,
            "visibility": null,
            "width": null
          }
        },
        "e18e2e546add4dcf9e97fd36ec377673": {
          "model_module": "@jupyter-widgets/base",
          "model_module_version": "1.2.0",
          "model_name": "LayoutModel",
          "state": {
            "_model_module": "@jupyter-widgets/base",
            "_model_module_version": "1.2.0",
            "_model_name": "LayoutModel",
            "_view_count": null,
            "_view_module": "@jupyter-widgets/base",
            "_view_module_version": "1.2.0",
            "_view_name": "LayoutView",
            "align_content": null,
            "align_items": null,
            "align_self": null,
            "border": null,
            "bottom": null,
            "display": null,
            "flex": null,
            "flex_flow": null,
            "grid_area": null,
            "grid_auto_columns": null,
            "grid_auto_flow": null,
            "grid_auto_rows": null,
            "grid_column": null,
            "grid_gap": null,
            "grid_row": null,
            "grid_template_areas": null,
            "grid_template_columns": null,
            "grid_template_rows": null,
            "height": null,
            "justify_content": null,
            "justify_items": null,
            "left": null,
            "margin": null,
            "max_height": null,
            "max_width": null,
            "min_height": null,
            "min_width": null,
            "object_fit": null,
            "object_position": null,
            "order": null,
            "overflow": null,
            "overflow_x": null,
            "overflow_y": null,
            "padding": null,
            "right": null,
            "top": null,
            "visibility": null,
            "width": null
          }
        },
        "e990409916d946048b4c2e2e8c3c04f4": {
          "model_module": "@jupyter-widgets/controls",
          "model_module_version": "1.5.0",
          "model_name": "ProgressStyleModel",
          "state": {
            "_model_module": "@jupyter-widgets/controls",
            "_model_module_version": "1.5.0",
            "_model_name": "ProgressStyleModel",
            "_view_count": null,
            "_view_module": "@jupyter-widgets/base",
            "_view_module_version": "1.2.0",
            "_view_name": "StyleView",
            "bar_color": null,
            "description_width": ""
          }
        },
        "f00abfd02b0846afbb1c36ac563a75e1": {
          "model_module": "@jupyter-widgets/controls",
          "model_module_version": "1.5.0",
          "model_name": "HTMLModel",
          "state": {
            "_dom_classes": [],
            "_model_module": "@jupyter-widgets/controls",
            "_model_module_version": "1.5.0",
            "_model_name": "HTMLModel",
            "_view_count": null,
            "_view_module": "@jupyter-widgets/controls",
            "_view_module_version": "1.5.0",
            "_view_name": "HTMLView",
            "description": "",
            "description_tooltip": null,
            "layout": "IPY_MODEL_f4a636f04c56429d87b57c9682e49272",
            "placeholder": "​",
            "style": "IPY_MODEL_fcce33f0d014431990bca3e395ccf29a",
            "value": " 899k/? [00:00&lt;00:00, 33.1MB/s]"
          }
        },
        "f21a56d79ea34c0e99582f85d8baa2ef": {
          "model_module": "@jupyter-widgets/controls",
          "model_module_version": "1.5.0",
          "model_name": "HTMLModel",
          "state": {
            "_dom_classes": [],
            "_model_module": "@jupyter-widgets/controls",
            "_model_module_version": "1.5.0",
            "_model_name": "HTMLModel",
            "_view_count": null,
            "_view_module": "@jupyter-widgets/controls",
            "_view_module_version": "1.5.0",
            "_view_name": "HTMLView",
            "description": "",
            "description_tooltip": null,
            "layout": "IPY_MODEL_22cc8bd7ef8d4f6aaa48fce6ea864e4a",
            "placeholder": "​",
            "style": "IPY_MODEL_fa589d747f574b9aaaa66ec7ef84728e",
            "value": " 456k/? [00:00&lt;00:00, 25.0MB/s]"
          }
        },
        "f2296b1c06fe49989a608bc2b7ab9982": {
          "model_module": "@jupyter-widgets/controls",
          "model_module_version": "1.5.0",
          "model_name": "FloatProgressModel",
          "state": {
            "_dom_classes": [],
            "_model_module": "@jupyter-widgets/controls",
            "_model_module_version": "1.5.0",
            "_model_name": "FloatProgressModel",
            "_view_count": null,
            "_view_module": "@jupyter-widgets/controls",
            "_view_module_version": "1.5.0",
            "_view_name": "ProgressView",
            "bar_style": "success",
            "description": "",
            "description_tooltip": null,
            "layout": "IPY_MODEL_8f55ea9ffc25476283a9a806ab2da010",
            "max": 26,
            "min": 0,
            "orientation": "horizontal",
            "style": "IPY_MODEL_2bbc03c31c1847db8f2e71e86237f0c6",
            "value": 26
          }
        },
        "f4a636f04c56429d87b57c9682e49272": {
          "model_module": "@jupyter-widgets/base",
          "model_module_version": "1.2.0",
          "model_name": "LayoutModel",
          "state": {
            "_model_module": "@jupyter-widgets/base",
            "_model_module_version": "1.2.0",
            "_model_name": "LayoutModel",
            "_view_count": null,
            "_view_module": "@jupyter-widgets/base",
            "_view_module_version": "1.2.0",
            "_view_name": "LayoutView",
            "align_content": null,
            "align_items": null,
            "align_self": null,
            "border": null,
            "bottom": null,
            "display": null,
            "flex": null,
            "flex_flow": null,
            "grid_area": null,
            "grid_auto_columns": null,
            "grid_auto_flow": null,
            "grid_auto_rows": null,
            "grid_column": null,
            "grid_gap": null,
            "grid_row": null,
            "grid_template_areas": null,
            "grid_template_columns": null,
            "grid_template_rows": null,
            "height": null,
            "justify_content": null,
            "justify_items": null,
            "left": null,
            "margin": null,
            "max_height": null,
            "max_width": null,
            "min_height": null,
            "min_width": null,
            "object_fit": null,
            "object_position": null,
            "order": null,
            "overflow": null,
            "overflow_x": null,
            "overflow_y": null,
            "padding": null,
            "right": null,
            "top": null,
            "visibility": null,
            "width": null
          }
        },
        "f76a2e2e76694b479215d3cde1f2d925": {
          "model_module": "@jupyter-widgets/base",
          "model_module_version": "1.2.0",
          "model_name": "LayoutModel",
          "state": {
            "_model_module": "@jupyter-widgets/base",
            "_model_module_version": "1.2.0",
            "_model_name": "LayoutModel",
            "_view_count": null,
            "_view_module": "@jupyter-widgets/base",
            "_view_module_version": "1.2.0",
            "_view_name": "LayoutView",
            "align_content": null,
            "align_items": null,
            "align_self": null,
            "border": null,
            "bottom": null,
            "display": null,
            "flex": null,
            "flex_flow": null,
            "grid_area": null,
            "grid_auto_columns": null,
            "grid_auto_flow": null,
            "grid_auto_rows": null,
            "grid_column": null,
            "grid_gap": null,
            "grid_row": null,
            "grid_template_areas": null,
            "grid_template_columns": null,
            "grid_template_rows": null,
            "height": null,
            "justify_content": null,
            "justify_items": null,
            "left": null,
            "margin": null,
            "max_height": null,
            "max_width": null,
            "min_height": null,
            "min_width": null,
            "object_fit": null,
            "object_position": null,
            "order": null,
            "overflow": null,
            "overflow_x": null,
            "overflow_y": null,
            "padding": null,
            "right": null,
            "top": null,
            "visibility": null,
            "width": null
          }
        },
        "fa589d747f574b9aaaa66ec7ef84728e": {
          "model_module": "@jupyter-widgets/controls",
          "model_module_version": "1.5.0",
          "model_name": "DescriptionStyleModel",
          "state": {
            "_model_module": "@jupyter-widgets/controls",
            "_model_module_version": "1.5.0",
            "_model_name": "DescriptionStyleModel",
            "_view_count": null,
            "_view_module": "@jupyter-widgets/base",
            "_view_module_version": "1.2.0",
            "_view_name": "StyleView",
            "description_width": ""
          }
        },
        "fcce33f0d014431990bca3e395ccf29a": {
          "model_module": "@jupyter-widgets/controls",
          "model_module_version": "1.5.0",
          "model_name": "DescriptionStyleModel",
          "state": {
            "_model_module": "@jupyter-widgets/controls",
            "_model_module_version": "1.5.0",
            "_model_name": "DescriptionStyleModel",
            "_view_count": null,
            "_view_module": "@jupyter-widgets/base",
            "_view_module_version": "1.2.0",
            "_view_name": "StyleView",
            "description_width": ""
          }
        }
      }
    }
  },
  "nbformat": 4,
  "nbformat_minor": 0
}
